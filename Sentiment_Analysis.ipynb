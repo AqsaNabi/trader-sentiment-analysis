{
  "nbformat": 4,
  "nbformat_minor": 0,
  "metadata": {
    "colab": {
      "provenance": [],
      "authorship_tag": "ABX9TyODt12ajVkx1LQKBCDBJU95",
      "include_colab_link": true
    },
    "kernelspec": {
      "name": "python3",
      "display_name": "Python 3"
    },
    "language_info": {
      "name": "python"
    }
  },
  "cells": [
    {
      "cell_type": "markdown",
      "metadata": {
        "id": "view-in-github",
        "colab_type": "text"
      },
      "source": [
        "<a href=\"https://colab.research.google.com/github/AqsaNabi/trader-sentiment-analysis/blob/main/Sentiment_Analysis.ipynb\" target=\"_parent\"><img src=\"https://colab.research.google.com/assets/colab-badge.svg\" alt=\"Open In Colab\"/></a>"
      ]
    },
    {
      "cell_type": "markdown",
      "source": [
        "Uploaded Both the csv files from system to googleColab"
      ],
      "metadata": {
        "id": "6p9jgP6YqV3U"
      }
    },
    {
      "cell_type": "code",
      "execution_count": 1,
      "metadata": {
        "id": "8m9lHKzFfEs0"
      },
      "outputs": [],
      "source": [
        "import pandas as pp\n"
      ]
    },
    {
      "cell_type": "markdown",
      "source": [
        "Loading both csv data into Datasets, via using pandas library"
      ],
      "metadata": {
        "id": "qoo01IkXq7BT"
      }
    },
    {
      "cell_type": "code",
      "source": [
        "historical_df = pp.read_csv('/content/historical_data.csv')\n",
        "sentiment_df = pp.read_csv('/content/fear_greed_index.csv') #pp is the name used to call pandas library"
      ],
      "metadata": {
        "id": "dDpy2vaVqxwj"
      },
      "execution_count": 5,
      "outputs": []
    },
    {
      "cell_type": "code",
      "source": [],
      "metadata": {
        "id": "-oR55gYYfHYX"
      },
      "execution_count": null,
      "outputs": []
    }
  ]
}